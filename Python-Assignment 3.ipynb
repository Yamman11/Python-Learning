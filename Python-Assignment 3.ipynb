{
 "cells": [
  {
   "cell_type": "code",
   "execution_count": 3,
   "metadata": {},
   "outputs": [
    {
     "name": "stdout",
     "output_type": "stream",
     "text": [
      "Enter first number: 2\n",
      "Enter second number: 3\n",
      "Enter operator:**\n",
      "Your answer: 8\n"
     ]
    }
   ],
   "source": [
    "    # Assignment 3\n",
    "    # The program takes two numbers as input and add,subtract,multiply,divide and raise their power\n",
    "    # Take input from the user \n",
    "    num1 = int(input(\"Enter first number: \"))\n",
    "    num2 = int(input(\"Enter second number: \"))\n",
    "    operator = (input(\"Enter operator:\"))\n",
    "    if operator == '+':\n",
    "        ans= num1+num2\n",
    "        print('Your answer is:',ans)\n",
    "    elif operator == '-':\n",
    "        ans= num1-num2\n",
    "        print('Your answer is:',ans)\n",
    "    elif operator == '*':\n",
    "        ans= num1*num2\n",
    "        print('Your answer is:',ans)\n",
    "    elif operator == '/':\n",
    "        ans= num1/num2\n",
    "        print('Your answer is:',ans)\n",
    "    elif operator == '**':\n",
    "        ans= num1**num2\n",
    "        print('Your answer is:',ans)\n",
    "    else:\n",
    "        print(\"Invalid input\")"
   ]
  },
  {
   "cell_type": "code",
   "execution_count": 16,
   "metadata": {},
   "outputs": [
    {
     "name": "stdout",
     "output_type": "stream",
     "text": [
      "Enter number of elements : 3\n",
      "1\n",
      "2\n",
      "3\n",
      "['1', '2', '3']\n",
      "There is a numeric value in the list\n"
     ]
    }
   ],
   "source": [
    "# This program checks if there is any numeric value in the list\n",
    "# creating an empty list \n",
    "lst = [] \n",
    "n = int(input(\"Enter number of elements : \")) \n",
    "for i in range(0, n): \n",
    "    ele = (input()) \n",
    "    lst.append(ele) \n",
    "print (lst)\n",
    "for lst in range(0,n):\n",
    "    print(\"There is a numeric value in the list\")\n",
    "    break\n",
    "        \n",
    "        \n",
    "    \n",
    "        \n",
    "\n"
   ]
  },
  {
   "cell_type": "code",
   "execution_count": 7,
   "metadata": {},
   "outputs": [
    {
     "name": "stdout",
     "output_type": "stream",
     "text": [
      "{'first_name': 'Yamman', 'last_name': 'Mansuri', 'education': 'Bachelors of Engineering', 'class': 'Python', 'age': '23 yrs'}\n"
     ]
    }
   ],
   "source": [
    "### This program add key to a dictionary\n",
    "student_19={\"first_name\": \"Yamman\",\"last_name\":\"Mansuri\",\"education\":\"Bachelors of Engineering\",\"class\":\"Python\"}\n",
    "student_19[\"age\"]='23 yrs'\n",
    "print (student_19)"
   ]
  },
  {
   "cell_type": "code",
   "execution_count": 14,
   "metadata": {},
   "outputs": [
    {
     "name": "stdout",
     "output_type": "stream",
     "text": [
      "100\n"
     ]
    }
   ],
   "source": [
    "#This program sums the numeric items in a dictionary\n",
    "Mark_Sheet={\"Emglish\":29,\"Maths\":34,\"Chemistry\":37}\n",
    "print(sum(Mark_Sheet.values()))"
   ]
  },
  {
   "cell_type": "code",
   "execution_count": 20,
   "metadata": {},
   "outputs": [
    {
     "name": "stdout",
     "output_type": "stream",
     "text": [
      "Enter number of elements : 5\n",
      "2\n",
      "3\n",
      "2\n",
      "3\n",
      "4\n",
      "['2', '3']\n",
      "4\n"
     ]
    }
   ],
   "source": [
    "#This program identify duplicate values in a list\n",
    "def repeat(x): \n",
    "    _size = len(x) \n",
    "    repeated = [] \n",
    "    for i in range(_size): \n",
    "        k = i + 1\n",
    "        for j in range(k, _size): \n",
    "            if x[i] == x[j] and x[i] not in repeated: \n",
    "                repeated.append(x[i]) \n",
    "    return repeated \n",
    "lst = [] \n",
    "n = int(input(\"Enter number of elements : \")) \n",
    "for i in range(0, n): \n",
    "    ele = (input()) \n",
    "    lst.append(ele)\n",
    "print (repeat(lst))"
   ]
  },
  {
   "cell_type": "code",
   "execution_count": 24,
   "metadata": {},
   "outputs": [
    {
     "name": "stdout",
     "output_type": "stream",
     "text": [
      "Present,  value = Yamman\n",
      "Not present\n"
     ]
    }
   ],
   "source": [
    "#This program checks if given key already exists in a dictionary\n",
    "def checkKey(dict, key): \n",
    "      \n",
    "    if key in dict: \n",
    "        print(\"Present, \", end =\" \") \n",
    "        print(\"value =\", dict[key]) \n",
    "    else: \n",
    "        print(\"Not present\") \n",
    "  \n",
    "# Driver Code \n",
    "student = {'name': 'Yamman', 'class':'graduate', 'college':'NEDUET'} \n",
    "  \n",
    "key = 'name'\n",
    "checkKey(student, key) \n",
    "  \n",
    "key = 'age'\n",
    "checkKey(student, key) "
   ]
  },
  {
   "cell_type": "code",
   "execution_count": null,
   "metadata": {},
   "outputs": [],
   "source": []
  }
 ],
 "metadata": {
  "kernelspec": {
   "display_name": "Python 3",
   "language": "python",
   "name": "python3"
  },
  "language_info": {
   "codemirror_mode": {
    "name": "ipython",
    "version": 3
   },
   "file_extension": ".py",
   "mimetype": "text/x-python",
   "name": "python",
   "nbconvert_exporter": "python",
   "pygments_lexer": "ipython3",
   "version": "3.7.4"
  }
 },
 "nbformat": 4,
 "nbformat_minor": 2
}
