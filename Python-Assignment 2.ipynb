{
 "cells": [
  {
   "cell_type": "code",
   "execution_count": 1,
   "metadata": {},
   "outputs": [
    {
     "name": "stdout",
     "output_type": "stream",
     "text": [
      "Enter Marks Obtained in English out of 100100\n",
      "Enter Marks Obtained in Maths out of 10010\n",
      "Enter Marks Obtained in Science out of 10022\n",
      "Enter Marks Obtained) in Urdu out of 10044\n",
      "Enter Marks Obtained in History out of 100100\n",
      "Marks Sheet\n",
      "Subjects    Total Marks   Marks Obtained\n",
      "English        100         100\n",
      "Maths          100         10\n",
      "Science        100         22\n",
      "Urdu           100         44\n",
      "History        100         100\n",
      "Total Marks Obtained:   276\n",
      "Percentage:   55\n",
      "You have failed the Exams\n"
     ]
    }
   ],
   "source": [
    "#Assignment2\n",
    "#This program will take input marks of 5 subjects and show and generate Marks Sheet\n",
    "eng=int(input(\"Enter Marks Obtained in English out of 100\"))\n",
    "mat=int(input(\"Enter Marks Obtained in Maths out of 100\"))\n",
    "sci=int(input(\"Enter Marks Obtained in Science out of 100\"))\n",
    "urd=int(input(\"Enter Marks Obtained) in Urdu out of 100\"))\n",
    "his=int(input(\"Enter Marks Obtained in History out of 100\"))\n",
    "total_mark= eng+mat+sci+urd+his\n",
    "perc=round((total_mark/500)*100)\n",
    "if perc>=90:\n",
    "    grade= 'A+'\n",
    "elif perc>=80:\n",
    "    grade='A'\n",
    "elif perc>=70:\n",
    "    grade='B'\n",
    "elif perc>=60:\n",
    "    grade='C'\n",
    "else:\n",
    "    grade='Fail'\n",
    "print(\"Marks Sheet\")\n",
    "print(\"Subjects\"+\"    \"+\"Total Marks\"+\"   \"+\"Marks Obtained\")\n",
    "print(\"English\" +\"    \"+\"    100    \"+\"     \"+   str(eng)     )\n",
    "print(\"Maths  \" +\"    \"+\"    100    \"+\"     \"+   str(mat)     )\n",
    "print(\"Science\" +\"    \"+\"    100    \"+\"     \"+   str(sci)     )\n",
    "print(\"Urdu   \" +\"    \"+\"    100    \"+\"     \"+   str(urd)     )\n",
    "print(\"History\" +\"    \"+\"    100    \"+\"     \"+   str(his)     )\n",
    "print(\"Total Marks Obtained:  \",total_mark)\n",
    "print(\"Percentage:  \",perc)\n",
    "if grade=='Fail':\n",
    "    print(\"You have failed the Exams\")\n",
    "else:\n",
    "    print(\"You have achieved\"+\" \"+grade+\" \"+\"grade\")\n"
   ]
  },
  {
   "cell_type": "code",
   "execution_count": 2,
   "metadata": {},
   "outputs": [
    {
     "name": "stdout",
     "output_type": "stream",
     "text": [
      "Enter Any Number3\n",
      "The number 3 is Odd\n"
     ]
    }
   ],
   "source": [
    "#This program take input from user and determine if the number is even or odd\n",
    "num=int(input(\"Enter Any Number\"))\n",
    "if num%2==0:\n",
    "    print(\"The number\"+\" \"+str(num)+\" \"+\"is Even\")\n",
    "else:\n",
    "    print(\"The number\"+\" \"+str(num)+\" \"+\"is Odd\")"
   ]
  },
  {
   "cell_type": "code",
   "execution_count": 10,
   "metadata": {},
   "outputs": [
    {
     "name": "stdout",
     "output_type": "stream",
     "text": [
      "The length of the list is 4\n"
     ]
    }
   ],
   "source": [
    "#This program prints the length of the list\n",
    "b=[1,2,3,4]\n",
    "print(\"The length of the list is\",len(b))"
   ]
  },
  {
   "cell_type": "code",
   "execution_count": 12,
   "metadata": {},
   "outputs": [
    {
     "name": "stdout",
     "output_type": "stream",
     "text": [
      "The list is [1, 2, 3, 4]\n",
      "The Largest number in the list is 4\n"
     ]
    }
   ],
   "source": [
    "#This program prints the Maximum number of the list\n",
    "b=[1,2,3,4]\n",
    "print(\"The list is\",b)\n",
    "print(\"The Largest number in the list is\",max(b))\n"
   ]
  },
  {
   "cell_type": "code",
   "execution_count": 26,
   "metadata": {},
   "outputs": [
    {
     "name": "stdout",
     "output_type": "stream",
     "text": [
      "The list is [1, 1, 2, 3, 5, 8, 13, 21, 34, 55, 89]\n",
      "Elements of the list smaller than 5 are [1, 1, 2, 3, 5]\n"
     ]
    }
   ],
   "source": [
    "#This program prints the elements smaller than 5 in the given list\n",
    "b=[1,1, 2, 3, 5, 8, 13, 21, 34, 55, 89]\n",
    "print(\"The list is\",b)\n",
    "new_list = []\n",
    "for i in b:\n",
    "    if i <= 5:\n",
    "        new_list.append(i)\n",
    "\n",
    "print (\"Elements of the list smaller than 5 are\", new_list)"
   ]
  },
  {
   "cell_type": "code",
   "execution_count": null,
   "metadata": {},
   "outputs": [],
   "source": []
  }
 ],
 "metadata": {
  "kernelspec": {
   "display_name": "Python 3",
   "language": "python",
   "name": "python3"
  },
  "language_info": {
   "codemirror_mode": {
    "name": "ipython",
    "version": 3
   },
   "file_extension": ".py",
   "mimetype": "text/x-python",
   "name": "python",
   "nbconvert_exporter": "python",
   "pygments_lexer": "ipython3",
   "version": "3.7.4"
  }
 },
 "nbformat": 4,
 "nbformat_minor": 2
}
