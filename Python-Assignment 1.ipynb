{
 "cells": [
  {
   "cell_type": "code",
   "execution_count": 4,
   "metadata": {},
   "outputs": [
    {
     "name": "stdout",
     "output_type": "stream",
     "text": [
      "Twinkle, twinkle, little star\n",
      "      How I wonder what you are!\n",
      "            Up above the world so high,\n",
      "            Like a diamond in the sky.\n",
      "Twinkle, twinkle, little star,\n",
      "      How I wonder what you are\n"
     ]
    }
   ],
   "source": [
    "#Assignment 1\n",
    "#This code will print the string in a specific format\n",
    "print(\"Twinkle, twinkle, little star\")\n",
    "print(\"      \"+\"How I wonder what you are!\")\n",
    "print (\"            \"+\"Up above the world so high,\")\n",
    "print (\"            \"+\"Like a diamond in the sky.\")\n",
    "print (\"Twinkle, twinkle, little star,\")\n",
    "print (\"      \"+\"How I wonder what you are\")"
   ]
  },
  {
   "cell_type": "code",
   "execution_count": 2,
   "metadata": {},
   "outputs": [
    {
     "name": "stdout",
     "output_type": "stream",
     "text": [
      "Enter the python version you are using 3.0\n",
      "Python version= 3.0\n"
     ]
    }
   ],
   "source": [
    "#This program prints Python version you are using\n",
    "pyt_ver = input(\"Enter the python version you are using \");\n",
    "print (\"Python version=\",pyt_ver);"
   ]
  },
  {
   "cell_type": "code",
   "execution_count": 3,
   "metadata": {},
   "outputs": [
    {
     "name": "stdout",
     "output_type": "stream",
     "text": [
      "2019-11-04 17:50:33.484311\n"
     ]
    }
   ],
   "source": [
    "#This program uses datetime module to display current date and time\n",
    "import datetime\n",
    "currentDT = datetime.datetime.now()\n",
    "print (str(currentDT))\n"
   ]
  },
  {
   "cell_type": "code",
   "execution_count": 5,
   "metadata": {},
   "outputs": [
    {
     "name": "stdout",
     "output_type": "stream",
     "text": [
      "Enter the radius:4\n",
      "The area is: 50.285714285714285\n"
     ]
    }
   ],
   "source": [
    "#This program computes the area of a circle by inputting radius\n",
    "r = int(input (\"Enter the radius:\"))\n",
    "A = 22/7*(r**2)\n",
    "print (\"The area is:\",A)"
   ]
  },
  {
   "cell_type": "code",
   "execution_count": 8,
   "metadata": {},
   "outputs": [
    {
     "name": "stdout",
     "output_type": "stream",
     "text": [
      "Enter first nameYamman\n",
      "Enter last nameMansuri\n",
      "The name is: Mansuri Yamman\n"
     ]
    }
   ],
   "source": [
    "#This program prompts first and last name and print them in reverse order\n",
    "first_name= input (\"Enter first name\")\n",
    "last_name= input (\"Enter last name\")\n",
    "print (\"The name is:\", last_name+\" \"+first_name)"
   ]
  },
  {
   "cell_type": "code",
   "execution_count": 13,
   "metadata": {},
   "outputs": [
    {
     "name": "stdout",
     "output_type": "stream",
     "text": [
      "Enter first number:2\n",
      "Enter second number:2\n",
      "The sum of the number is 4\n"
     ]
    }
   ],
   "source": [
    "#This program takes two input and prints their addition\n",
    "input_1= int(input(\"Enter first number:\"))\n",
    "input_2= int(input(\"Enter second number:\"))\n",
    "print (\"The sum of the number is\",input_1+input_2)"
   ]
  },
  {
   "cell_type": "code",
   "execution_count": null,
   "metadata": {},
   "outputs": [],
   "source": []
  }
 ],
 "metadata": {
  "kernelspec": {
   "display_name": "Python 3",
   "language": "python",
   "name": "python3"
  },
  "language_info": {
   "codemirror_mode": {
    "name": "ipython",
    "version": 3
   },
   "file_extension": ".py",
   "mimetype": "text/x-python",
   "name": "python",
   "nbconvert_exporter": "python",
   "pygments_lexer": "ipython3",
   "version": "3.7.4"
  }
 },
 "nbformat": 4,
 "nbformat_minor": 2
}
